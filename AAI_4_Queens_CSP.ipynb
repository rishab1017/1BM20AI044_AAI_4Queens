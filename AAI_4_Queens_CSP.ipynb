{
  "nbformat": 4,
  "nbformat_minor": 0,
  "metadata": {
    "colab": {
      "provenance": []
    },
    "kernelspec": {
      "name": "python3",
      "display_name": "Python 3"
    },
    "language_info": {
      "name": "python"
    }
  },
  "cells": [
    {
      "cell_type": "code",
      "execution_count": 1,
      "metadata": {
        "colab": {
          "base_uri": "https://localhost:8080/"
        },
        "id": "QWkd4zdLNCOq",
        "outputId": "e85a5f9b-ef6c-4041-f2e3-9b8a917628bc"
      },
      "outputs": [
        {
          "output_type": "stream",
          "name": "stdout",
          "text": [
            ". Q . .\n",
            ". . . Q\n",
            "Q . . .\n",
            ". . Q .\n",
            "\n"
          ]
        }
      ],
      "source": [
        "\n",
        "class FourQueensProblem:\n",
        "    def __init__(self):\n",
        "        self.solution = [0, 0, 0, 0]\n",
        "\n",
        "    def solve(self):\n",
        "        if self.solve_util(0):\n",
        "            self.print_solution()\n",
        "        else:\n",
        "            print(\"No solution exists.\")\n",
        "\n",
        "    def solve_util(self, col):\n",
        "        if col >= 4:\n",
        "            return True\n",
        "\n",
        "        for row in range(4):\n",
        "            if self.is_safe(row, col):\n",
        "                self.solution[col] = row\n",
        "\n",
        "                if self.solve_util(col + 1):\n",
        "                    return True\n",
        "\n",
        "                self.solution[col] = 0\n",
        "\n",
        "        return False\n",
        "\n",
        "    def is_safe(self, row, col):\n",
        "        for i in range(col):\n",
        "            if (\n",
        "                self.solution[i] == row\n",
        "                or self.solution[i] - i == row - col\n",
        "                or self.solution[i] + i == row + col\n",
        "            ):\n",
        "                return False\n",
        "\n",
        "        return True\n",
        "\n",
        "    def print_solution(self):\n",
        "        for row in range(4):\n",
        "            line = ['.'] * 4\n",
        "            line[self.solution[row]] = 'Q'\n",
        "            print(' '.join(line))\n",
        "        print()\n",
        "\n",
        "\n",
        "four_queens = FourQueensProblem()\n",
        "\n",
        "four_queens.solve()"
      ]
    }
  ]
}