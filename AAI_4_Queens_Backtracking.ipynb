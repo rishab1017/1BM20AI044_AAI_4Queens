{
  "nbformat": 4,
  "nbformat_minor": 0,
  "metadata": {
    "colab": {
      "provenance": []
    },
    "kernelspec": {
      "name": "python3",
      "display_name": "Python 3"
    },
    "language_info": {
      "name": "python"
    }
  },
  "cells": [
    {
      "cell_type": "code",
      "execution_count": 1,
      "metadata": {
        "colab": {
          "base_uri": "https://localhost:8080/"
        },
        "id": "9l8JaVLXMyjS",
        "outputId": "f475a044-f3b2-4005-8dd4-b71ba2dedf12"
      },
      "outputs": [
        {
          "output_type": "stream",
          "name": "stdout",
          "text": [
            "Solution Board 1:\n",
            ". Q . .\n",
            ". . . Q\n",
            "Q . . .\n",
            ". . Q .\n",
            "\n",
            "Solution Board 2:\n",
            ". . Q .\n",
            "Q . . .\n",
            ". . . Q\n",
            ". Q . .\n",
            "\n"
          ]
        }
      ],
      "source": [
        "def is_valid(board, row, col):\n",
        "    for r in range(row):\n",
        "\n",
        "        if board[r] == col or board[r] - col == r - row or board[r] - col == row - r:\n",
        "            return False\n",
        "    return True\n",
        "\n",
        "def solve_n_queens():\n",
        "    board = [-1] * 4\n",
        "    all_boards = []\n",
        "    solve_n_queens_util(board, 0, all_boards)\n",
        "    return all_boards\n",
        "\n",
        "def solve_n_queens_util(board, row, all_boards):\n",
        "    if row == 4:\n",
        "        all_boards.append(list(board))\n",
        "        return\n",
        "\n",
        "    for col in range(4):\n",
        "        board[row] = col\n",
        "        if is_valid(board, row, col):\n",
        "            solve_n_queens_util(board, row + 1, all_boards)\n",
        "    board[row] = -1\n",
        "\n",
        "all_boards = solve_n_queens()\n",
        "\n",
        "for i, board in enumerate(all_boards):\n",
        "    print(f\"Solution Board {i + 1}:\")\n",
        "    for row in range(4):\n",
        "        line = ['.'] * 4\n",
        "        if board[row] != -1:\n",
        "            line[board[row]] = 'Q'\n",
        "        print(' '.join(line))\n",
        "    print()\n"
      ]
    }
  ]
}