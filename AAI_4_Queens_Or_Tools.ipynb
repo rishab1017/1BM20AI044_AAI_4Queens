{
  "nbformat": 4,
  "nbformat_minor": 0,
  "metadata": {
    "colab": {
      "provenance": []
    },
    "kernelspec": {
      "name": "python3",
      "display_name": "Python 3"
    },
    "language_info": {
      "name": "python"
    }
  },
  "cells": [
    {
      "cell_type": "code",
      "execution_count": 1,
      "metadata": {
        "colab": {
          "base_uri": "https://localhost:8080/"
        },
        "id": "bggp9r8t2XhR",
        "outputId": "0dc5b771-7a96-4ab8-d5f9-7d61fb600d11"
      },
      "outputs": [
        {
          "output_type": "stream",
          "name": "stdout",
          "text": [
            "Looking in indexes: https://pypi.org/simple, https://us-python.pkg.dev/colab-wheels/public/simple/\n",
            "Collecting ortools\n",
            "  Downloading ortools-9.6.2534-cp310-cp310-manylinux_2_17_x86_64.manylinux2014_x86_64.whl (16.4 MB)\n",
            "\u001b[2K     \u001b[90m━━━━━━━━━━━━━━━━━━━━━━━━━━━━━━━━━━━━━━━━\u001b[0m \u001b[32m16.4/16.4 MB\u001b[0m \u001b[31m73.5 MB/s\u001b[0m eta \u001b[36m0:00:00\u001b[0m\n",
            "\u001b[?25hRequirement already satisfied: absl-py>=0.13 in /usr/local/lib/python3.10/dist-packages (from ortools) (1.4.0)\n",
            "Requirement already satisfied: numpy>=1.13.3 in /usr/local/lib/python3.10/dist-packages (from ortools) (1.22.4)\n",
            "Collecting protobuf>=4.21.12 (from ortools)\n",
            "  Downloading protobuf-4.23.3-cp37-abi3-manylinux2014_x86_64.whl (304 kB)\n",
            "\u001b[2K     \u001b[90m━━━━━━━━━━━━━━━━━━━━━━━━━━━━━━━━━━━━━━\u001b[0m \u001b[32m304.5/304.5 kB\u001b[0m \u001b[31m24.7 MB/s\u001b[0m eta \u001b[36m0:00:00\u001b[0m\n",
            "\u001b[?25hRequirement already satisfied: scipy>=1.10.0 in /usr/local/lib/python3.10/dist-packages (from ortools) (1.10.1)\n",
            "Installing collected packages: protobuf, ortools\n",
            "  Attempting uninstall: protobuf\n",
            "    Found existing installation: protobuf 3.20.3\n",
            "    Uninstalling protobuf-3.20.3:\n",
            "      Successfully uninstalled protobuf-3.20.3\n",
            "Successfully installed ortools-9.6.2534 protobuf-4.23.3\n"
          ]
        }
      ],
      "source": [
        "!pip install ortools\n"
      ]
    },
    {
      "cell_type": "code",
      "source": [
        "import sys\n",
        "import time\n",
        "from ortools.sat.python import cp_model"
      ],
      "metadata": {
        "id": "5g5Dj6452pYO"
      },
      "execution_count": 7,
      "outputs": []
    },
    {
      "cell_type": "code",
      "source": [
        "model = cp_model.CpModel()"
      ],
      "metadata": {
        "id": "36idE_OJ2sSN"
      },
      "execution_count": 8,
      "outputs": []
    },
    {
      "cell_type": "code",
      "source": [
        "\n",
        "board_size = 4\n",
        "queens = [\n",
        "    model.NewIntVar(0, board_size - 1, 'x%i' % i) for i in range(board_size)\n",
        "]"
      ],
      "metadata": {
        "id": "1AHCul3q2wOH"
      },
      "execution_count": 9,
      "outputs": []
    },
    {
      "cell_type": "code",
      "source": [
        "model.AddAllDifferent(queens)\n",
        "\n",
        "model.AddAllDifferent(queens[i] + i for i in range(board_size))\n",
        "model.AddAllDifferent(queens[i] - i for i in range(board_size))"
      ],
      "metadata": {
        "colab": {
          "base_uri": "https://localhost:8080/"
        },
        "id": "fsDT09nf2xXe",
        "outputId": "87521701-6338-49fa-b2b0-b3ae3ad5a772"
      },
      "execution_count": 10,
      "outputs": [
        {
          "output_type": "execute_result",
          "data": {
            "text/plain": [
              "<ortools.sat.python.cp_model.Constraint at 0x7f2d1433bf40>"
            ]
          },
          "metadata": {},
          "execution_count": 10
        }
      ]
    },
    {
      "cell_type": "code",
      "source": [
        "from ortools.sat.python import cp_model\n",
        "\n",
        "class SolutionPrinter(cp_model.CpSolverSolutionCallback):\n",
        "    def __init__(self, queens):\n",
        "        cp_model.CpSolverSolutionCallback.__init__(self)\n",
        "        self.queens = queens\n",
        "        self.solutions = []\n",
        "        self.solution_count = 0\n",
        "\n",
        "    def on_solution_callback(self):\n",
        "        solution = [self.Value(queen) for queen in self.queens]\n",
        "        self.solutions.append(solution)\n",
        "        self.solution_count += 1\n",
        "\n",
        "def solve_n_queens(board_size):\n",
        "    model = cp_model.CpModel()\n",
        "    queens = [model.NewIntVar(0, board_size - 1, f'queen_{i}') for i in range(board_size)]\n",
        "\n",
        "    for i in range(board_size):\n",
        "        for j in range(i + 1, board_size):\n",
        "            model.Add(queens[i] != queens[j])\n",
        "            model.Add(queens[i] + i != queens[j] + j)\n",
        "            model.Add(queens[i] - i != queens[j] - j)\n",
        "\n",
        "    solver = cp_model.CpSolver()\n",
        "    solution_printer = SolutionPrinter(queens)\n",
        "    solver.SearchForAllSolutions(model, solution_printer)\n",
        "\n",
        "    return solution_printer.solutions\n",
        "\n",
        "board_size = 4\n",
        "solutions = solve_n_queens(board_size)\n",
        "\n",
        "if solutions:\n",
        "    print(f\"Total solutions found: {len(solutions)}\")\n",
        "    for idx, solution in enumerate(solutions):\n",
        "        print(f\"Solution {idx+1}:\")\n",
        "        for row in range(board_size):\n",
        "            line = ['.'] * board_size\n",
        "            line[solution[row]] = 'Q'\n",
        "            print(' '.join(line))\n",
        "        print()\n",
        "else:\n",
        "    print(\"No solution exists.\")\n"
      ],
      "metadata": {
        "colab": {
          "base_uri": "https://localhost:8080/"
        },
        "id": "lo_sOIi33OFy",
        "outputId": "9fe23a42-74e4-4e7d-c084-8514e6247a74"
      },
      "execution_count": 11,
      "outputs": [
        {
          "output_type": "stream",
          "name": "stdout",
          "text": [
            "Total solutions found: 2\n",
            "Solution 1:\n",
            ". . Q .\n",
            "Q . . .\n",
            ". . . Q\n",
            ". Q . .\n",
            "\n",
            "Solution 2:\n",
            ". Q . .\n",
            ". . . Q\n",
            "Q . . .\n",
            ". . Q .\n",
            "\n"
          ]
        }
      ]
    }
  ]
}