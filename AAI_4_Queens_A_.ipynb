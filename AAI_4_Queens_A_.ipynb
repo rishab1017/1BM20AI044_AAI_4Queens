{
  "nbformat": 4,
  "nbformat_minor": 0,
  "metadata": {
    "colab": {
      "provenance": []
    },
    "kernelspec": {
      "name": "python3",
      "display_name": "Python 3"
    },
    "language_info": {
      "name": "python"
    }
  },
  "cells": [
    {
      "cell_type": "code",
      "execution_count": 2,
      "metadata": {
        "colab": {
          "base_uri": "https://localhost:8080/"
        },
        "id": "KKHybtgwNo2R",
        "outputId": "2b748c77-76b2-478d-d2c8-e980b4c47c78"
      },
      "outputs": [
        {
          "output_type": "stream",
          "name": "stdout",
          "text": [
            "Solution found!\n",
            ". Q . .\n",
            ". . . Q\n",
            "Q . . .\n",
            ". . Q .\n"
          ]
        }
      ],
      "source": [
        "from queue import PriorityQueue\n",
        "def heuristic(board):\n",
        "\n",
        "    conflicts = 0\n",
        "    size = len(board)\n",
        "\n",
        "    for row in range(size):\n",
        "        for col in range(size):\n",
        "            if board[row] == col:\n",
        "                conflicts += 2\n",
        "            if board[row] == board[col] and row != col:\n",
        "                conflicts += 1\n",
        "            if board[row] - row == board[col] - col and row != col:\n",
        "                conflicts += 1\n",
        "            if board[row] + row == board[col] + col and row != col:\n",
        "                conflicts += 1\n",
        "\n",
        "    return conflicts\n",
        "\n",
        "def solve_n_queens(n):\n",
        "\n",
        "    initial_state = (0, [])\n",
        "\n",
        "    queue = PriorityQueue()\n",
        "    queue.put(initial_state)\n",
        "\n",
        "    while not queue.empty():\n",
        "        current_state = queue.get()\n",
        "        current_heuristic, current_board = current_state\n",
        "\n",
        "        if len(current_board) == n:\n",
        "            return current_board\n",
        "\n",
        "        for col in range(n):\n",
        "            successor_board = current_board + [col]\n",
        "            successor_heuristic = heuristic(successor_board)\n",
        "            successor_state = (successor_heuristic, successor_board)\n",
        "\n",
        "            queue.put(successor_state)\n",
        "\n",
        "    return None\n",
        "\n",
        "solution = solve_n_queens(4)\n",
        "if solution:\n",
        "    print(\"Solution found!\")\n",
        "    board_size = len(solution)\n",
        "    for i in range(board_size):\n",
        "        row = ['.'] * board_size\n",
        "        row[solution[i]] = 'Q'\n",
        "        print(' '.join(row))\n",
        "else:\n",
        "    print(\"No solution found.\")"
      ]
    }
  ]
}